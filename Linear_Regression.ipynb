{
  "nbformat": 4,
  "nbformat_minor": 0,
  "metadata": {
    "colab": {
      "name": "Linear Regression.ipynb",
      "provenance": [],
      "collapsed_sections": [],
      "authorship_tag": "ABX9TyOav5uZ3EzEBqwc9Z3PsMnl",
      "include_colab_link": true
    },
    "kernelspec": {
      "name": "python3",
      "display_name": "Python 3"
    }
  },
  "cells": [
    {
      "cell_type": "markdown",
      "metadata": {
        "id": "view-in-github",
        "colab_type": "text"
      },
      "source": [
        "<a href=\"https://colab.research.google.com/github/sai-teja-ponugoti/Amazon-Reviews-for-Sentiment-Analysis/blob/master/Linear_Regression.ipynb\" target=\"_parent\"><img src=\"https://colab.research.google.com/assets/colab-badge.svg\" alt=\"Open In Colab\"/></a>"
      ]
    },
    {
      "cell_type": "markdown",
      "metadata": {
        "id": "5UDDjQkdNYsm"
      },
      "source": [
        "# Linear Regression\n",
        "\n",
        "In this technique, the dependent variable is continuous, independent variable(s) can be continuous or discrete, and the nature of the regression line is linear.Linear Regression establishes a relationship between dependent variable (Y) and one or more independent variables (X) using a best fit straight line (also known as regression line). Y = bX + c.The difference between simple linear regression and multiple linear regression is that multiple linear regression has (>1) independent variables, whereas simple linear regression has only 1 independent variable. It is important to note that a simple linear regression model is susceptible to outliers.\n",
        "\n",
        "Important Points: There must be a linear relationship between independent and dependent variables.Linear Regression is very sensitive to Outliers. It can terribly affect the regression line and eventually the forecasted values. In case of multiple independent variables, we can go with forward selection, backward elimination and stepwise approach for selection of most significant independent variables.\n"
      ]
    },
    {
      "cell_type": "code",
      "metadata": {
        "id": "z368BhNwNg3J"
      },
      "source": [
        "import numpy as np\n",
        "from sklearn.linear_model import LinearRegression"
      ],
      "execution_count": 2,
      "outputs": []
    },
    {
      "cell_type": "code",
      "metadata": {
        "id": "uFK69M17Otb0"
      },
      "source": [
        "# creating a small dataset of y = 1 * x_0 + 2 * x_1 + 3\n",
        "X = np.array([[1, 1], [1, 2], [2, 2], [2, 3]])\n",
        "y = np.dot(X, np.array([1, 2])) + 3"
      ],
      "execution_count": 4,
      "outputs": []
    },
    {
      "cell_type": "code",
      "metadata": {
        "colab": {
          "base_uri": "https://localhost:8080/"
        },
        "id": "EuIT94qjO9Px",
        "outputId": "6bd15fb9-0d9a-494a-a16f-51382bb8a846"
      },
      "source": [
        "y"
      ],
      "execution_count": 5,
      "outputs": [
        {
          "output_type": "execute_result",
          "data": {
            "text/plain": [
              "array([ 6,  8,  9, 11])"
            ]
          },
          "metadata": {
            "tags": []
          },
          "execution_count": 5
        }
      ]
    },
    {
      "cell_type": "code",
      "metadata": {
        "id": "-f5kFfhuO4az"
      },
      "source": [
        "# fitting the data with default parameters\n",
        "reg = LinearRegression().fit(X,y)"
      ],
      "execution_count": 10,
      "outputs": []
    },
    {
      "cell_type": "code",
      "metadata": {
        "colab": {
          "base_uri": "https://localhost:8080/"
        },
        "id": "lD6ZxSOKPSzR",
        "outputId": "54bbf07f-9539-4e9d-8e3f-eaf71eda2a50"
      },
      "source": [
        "# finding the R sqare score of the model\n",
        "reg.score(X,y)"
      ],
      "execution_count": 11,
      "outputs": [
        {
          "output_type": "execute_result",
          "data": {
            "text/plain": [
              "1.0"
            ]
          },
          "metadata": {
            "tags": []
          },
          "execution_count": 11
        }
      ]
    },
    {
      "cell_type": "code",
      "metadata": {
        "colab": {
          "base_uri": "https://localhost:8080/"
        },
        "id": "FQcPxzsFPWMg",
        "outputId": "6495fdc8-154b-4f52-be86-c7edf982704a"
      },
      "source": [
        "# finding the m values using coef_\n",
        "reg.coef_"
      ],
      "execution_count": 13,
      "outputs": [
        {
          "output_type": "execute_result",
          "data": {
            "text/plain": [
              "array([1., 2.])"
            ]
          },
          "metadata": {
            "tags": []
          },
          "execution_count": 13
        }
      ]
    },
    {
      "cell_type": "code",
      "metadata": {
        "colab": {
          "base_uri": "https://localhost:8080/"
        },
        "id": "nps39JOCPYH_",
        "outputId": "eb019a35-d1be-49bb-d2bf-8e83d711486c"
      },
      "source": [
        "# finding the c value using intercept_\n",
        "reg.intercept_"
      ],
      "execution_count": 14,
      "outputs": [
        {
          "output_type": "execute_result",
          "data": {
            "text/plain": [
              "3.0000000000000018"
            ]
          },
          "metadata": {
            "tags": []
          },
          "execution_count": 14
        }
      ]
    },
    {
      "cell_type": "code",
      "metadata": {
        "colab": {
          "base_uri": "https://localhost:8080/"
        },
        "id": "0_V7DK35Pyyk",
        "outputId": "1ea75356-114c-49d0-aeab-8bf3146a9a2f"
      },
      "source": [
        "# predicting for unseen X values\n",
        "reg.predict(np.array([[3, 5]]))"
      ],
      "execution_count": 15,
      "outputs": [
        {
          "output_type": "execute_result",
          "data": {
            "text/plain": [
              "array([16.])"
            ]
          },
          "metadata": {
            "tags": []
          },
          "execution_count": 15
        }
      ]
    },
    {
      "cell_type": "code",
      "metadata": {
        "colab": {
          "base_uri": "https://localhost:8080/"
        },
        "id": "PVXp995rP6Gc",
        "outputId": "41abedea-2281-4309-c1ec-34cf16df96c7"
      },
      "source": [
        "# to find the parameters of the model\n",
        "reg.get_params()"
      ],
      "execution_count": 18,
      "outputs": [
        {
          "output_type": "execute_result",
          "data": {
            "text/plain": [
              "{'copy_X': True, 'fit_intercept': True, 'n_jobs': None, 'normalize': False}"
            ]
          },
          "metadata": {
            "tags": []
          },
          "execution_count": 18
        }
      ]
    },
    {
      "cell_type": "code",
      "metadata": {
        "id": "Nnh4IbNZQJkk"
      },
      "source": [
        "# fitting the data with no intercept parameters\n",
        "reg = LinearRegression(fit_intercept=False).fit(X,y)"
      ],
      "execution_count": 19,
      "outputs": []
    },
    {
      "cell_type": "code",
      "metadata": {
        "colab": {
          "base_uri": "https://localhost:8080/"
        },
        "id": "Xilf1tX6Q6vh",
        "outputId": "f336b4b1-1c5c-4b32-ba8c-7f99704957cc"
      },
      "source": [
        "reg.intercept_"
      ],
      "execution_count": 20,
      "outputs": [
        {
          "output_type": "execute_result",
          "data": {
            "text/plain": [
              "0.0"
            ]
          },
          "metadata": {
            "tags": []
          },
          "execution_count": 20
        }
      ]
    },
    {
      "cell_type": "code",
      "metadata": {
        "colab": {
          "base_uri": "https://localhost:8080/"
        },
        "id": "T2Vzcqu3Q8uO",
        "outputId": "efa8e25e-f32d-4c67-9a72-8cfce7270e0c"
      },
      "source": [
        "reg.coef_"
      ],
      "execution_count": 21,
      "outputs": [
        {
          "output_type": "execute_result",
          "data": {
            "text/plain": [
              "array([2.09090909, 2.54545455])"
            ]
          },
          "metadata": {
            "tags": []
          },
          "execution_count": 21
        }
      ]
    },
    {
      "cell_type": "code",
      "metadata": {
        "colab": {
          "base_uri": "https://localhost:8080/"
        },
        "id": "3doFdHM9Q-TS",
        "outputId": "41125024-df11-49ed-acad-e678b8bf8ee4"
      },
      "source": [
        "reg.score(X,y)"
      ],
      "execution_count": 22,
      "outputs": [
        {
          "output_type": "execute_result",
          "data": {
            "text/plain": [
              "0.7482517482517483"
            ]
          },
          "metadata": {
            "tags": []
          },
          "execution_count": 22
        }
      ]
    },
    {
      "cell_type": "code",
      "metadata": {
        "colab": {
          "base_uri": "https://localhost:8080/"
        },
        "id": "un00ohGsRBYn",
        "outputId": "521e9e17-7138-45dd-84ad-de61603efced"
      },
      "source": [
        "reg.predict(np.array([[3,5]]))"
      ],
      "execution_count": 24,
      "outputs": [
        {
          "output_type": "execute_result",
          "data": {
            "text/plain": [
              "array([19.])"
            ]
          },
          "metadata": {
            "tags": []
          },
          "execution_count": 24
        }
      ]
    },
    {
      "cell_type": "markdown",
      "metadata": {
        "id": "skxk7qs-RMUH"
      },
      "source": [
        "**Linear Regrssion Example**"
      ]
    },
    {
      "cell_type": "code",
      "metadata": {
        "id": "QyKSA4SxRFrs"
      },
      "source": [
        "import matplotlib.pyplot as plt\n",
        "import numpy as np\n",
        "from sklearn import datasets, linear_model\n",
        "from sklearn.metrics import mean_squared_error, r2_score\n"
      ],
      "execution_count": 26,
      "outputs": []
    },
    {
      "cell_type": "code",
      "metadata": {
        "id": "_28I-_uiRyp6"
      },
      "source": [
        "diabetes_X, diabetes_y = datasets.load_diabetes(return_X_y=True)\n",
        "# diabetes_X = diabetes_X[:, np.newaxis, 2]"
      ],
      "execution_count": 45,
      "outputs": []
    },
    {
      "cell_type": "code",
      "metadata": {
        "colab": {
          "base_uri": "https://localhost:8080/"
        },
        "id": "hVve8aE6SHyD",
        "outputId": "307f42a3-6ac8-450e-d93e-223d29c4f13e"
      },
      "source": [
        "diabetes_X.shape"
      ],
      "execution_count": 46,
      "outputs": [
        {
          "output_type": "execute_result",
          "data": {
            "text/plain": [
              "(442, 10)"
            ]
          },
          "metadata": {
            "tags": []
          },
          "execution_count": 46
        }
      ]
    },
    {
      "cell_type": "code",
      "metadata": {
        "id": "N4F9RwA3SJWG"
      },
      "source": [
        "diabetes_X = diabetes_X[:, np.newaxis, 2]   "
      ],
      "execution_count": 47,
      "outputs": []
    },
    {
      "cell_type": "code",
      "metadata": {
        "id": "SPRQOSaoSQeG"
      },
      "source": [
        "# diabetes_X"
      ],
      "execution_count": 48,
      "outputs": []
    },
    {
      "cell_type": "code",
      "metadata": {
        "id": "AmBgRKn1SV2V"
      },
      "source": [
        "# Split the data into training/testing sets\n",
        "diabetes_X_train = diabetes_X[:-20]\n",
        "diabetes_X_test = diabetes_X[-20:]"
      ],
      "execution_count": 49,
      "outputs": []
    },
    {
      "cell_type": "code",
      "metadata": {
        "id": "d-yCHUpZSyvM"
      },
      "source": [
        "# Split the targets into training/testing sets\n",
        "diabetes_y_train = diabetes_y[:-20]\n",
        "diabetes_y_test = diabetes_y[-20:]"
      ],
      "execution_count": 50,
      "outputs": []
    },
    {
      "cell_type": "code",
      "metadata": {
        "colab": {
          "base_uri": "https://localhost:8080/"
        },
        "id": "f2goOzCySzDv",
        "outputId": "409951ef-7e3e-4373-a604-750950ca22cf"
      },
      "source": [
        "reg = linear_model.LinearRegression()\n",
        "reg.fit(diabetes_X_train, diabetes_y_train)"
      ],
      "execution_count": 52,
      "outputs": [
        {
          "output_type": "execute_result",
          "data": {
            "text/plain": [
              "LinearRegression(copy_X=True, fit_intercept=True, n_jobs=None, normalize=False)"
            ]
          },
          "metadata": {
            "tags": []
          },
          "execution_count": 52
        }
      ]
    },
    {
      "cell_type": "code",
      "metadata": {
        "id": "y_oRYDY3S-1_"
      },
      "source": [
        "daiabetes_y_predict = reg.predict(diabetes_X_test)"
      ],
      "execution_count": 53,
      "outputs": []
    },
    {
      "cell_type": "code",
      "metadata": {
        "colab": {
          "base_uri": "https://localhost:8080/"
        },
        "id": "zxjRgC84TLgE",
        "outputId": "b8c4394b-adf8-4406-b34e-c7e52c4896e6"
      },
      "source": [
        "print(\"coefficents :\", reg.coef_)"
      ],
      "execution_count": 54,
      "outputs": [
        {
          "output_type": "stream",
          "text": [
            "coefficents : [938.23786125]\n"
          ],
          "name": "stdout"
        }
      ]
    },
    {
      "cell_type": "code",
      "metadata": {
        "colab": {
          "base_uri": "https://localhost:8080/"
        },
        "id": "YbFCaEuYTRz4",
        "outputId": "fdf71d41-3da7-4fc8-b271-0f2383977346"
      },
      "source": [
        "print(\" MSE :\", mean_squared_error(daiabetes_y_predict, diabetes_y_test))"
      ],
      "execution_count": 55,
      "outputs": [
        {
          "output_type": "stream",
          "text": [
            " MSE : 2548.0723987259694\n"
          ],
          "name": "stdout"
        }
      ]
    },
    {
      "cell_type": "code",
      "metadata": {
        "colab": {
          "base_uri": "https://localhost:8080/"
        },
        "id": "Fq71y6B3Tau7",
        "outputId": "e7946310-33eb-44af-89c4-ac0b41a4ff22"
      },
      "source": [
        "print(\"R sqaure/ coeffiecnt of determination :\" , r2_score(daiabetes_y_predict, diabetes_y_test))"
      ],
      "execution_count": 56,
      "outputs": [
        {
          "output_type": "stream",
          "text": [
            "R sqaure/ coeffiecnt of determination : -0.37084863968863835\n"
          ],
          "name": "stdout"
        }
      ]
    },
    {
      "cell_type": "code",
      "metadata": {
        "colab": {
          "base_uri": "https://localhost:8080/",
          "height": 252
        },
        "id": "fLXySaj0TjAD",
        "outputId": "409752ed-8a73-4385-e8aa-d8b8e6a01ff0"
      },
      "source": [
        "plt.scatter(diabetes_X_test, diabetes_y_test, color = 'black')\n",
        "plt.plot(diabetes_X_test, daiabetes_y_predict, color = 'blue', linewidth = 3)\n",
        "plt.xticks(())\n",
        "plt.yticks(())\n",
        "\n",
        "plt.show()"
      ],
      "execution_count": 62,
      "outputs": [
        {
          "output_type": "display_data",
          "data": {
            "image/png": "[encoded data removed]",
            "text/plain": [
              "<Figure size 432x288 with 1 Axes>"
            ]
          },
          "metadata": {
            "tags": []
          }
        }
      ]
    },
    {
      "cell_type": "markdown",
      "metadata": {
        "id": "Q9WbUTPHYClo"
      },
      "source": [
        "**Linear Regression**\n",
        "\n",
        "\n",
        "\n",
        "*   Slope is for unit change in X value what is the change in Y value.\n",
        "*   The best fit line is the line with minimal error i.e minimum cost function.\n",
        "mean-square error is used in linear regression.\n",
        "*   Gradient descent and global minima is used to find best m and c values just like in DL.\n",
        "*   We start with an m , calculate grad(J) at that point and update m with m' = m - grad(J)* learn_rate and repeat till we reach some convergence criteria.\n",
        "*   R square error is also known as coefficient of determination.\n",
        "\n",
        "**1. What Are the Basic Assumption?(favourite)¶**\n",
        "\n",
        "There are four assumptions associated with a linear regression model:\n",
        "*   Linearity: The relationship between X and the mean of Y is linear.\n",
        "*   Homoscedasticity: The variance of residual is the same for any value of X.\n",
        "*   Independence: Observations are independent of each other.\n",
        "*   Normality: For any fixed value of X, Y is normally distributed. unless you want to perform some kind of inference about the parameter of regression. This can be used to check whether the found parameters are optimal or not. What if data is not normally distributed? We can use transformations like log normal, box plot transformation etc.\n",
        "\n",
        "**2. Advantages**\n",
        "\n",
        "Linear regression performs exceptionally well for linearly separable data\n",
        "Easy to implement and train the model\n",
        "It can handle overfitting using dimensionality reduction techniques and cross validation and regularization\n",
        "\n",
        "**3. Disadvantages**\n",
        "\n",
        "Sometimes Lot of Feature Engineering Is required\n",
        "If the independent features are correlated it may affect performance\n",
        "It is often quite prone to noise and overfitting\n",
        "\n",
        "**4. Whether Feature Scaling is required?**\n",
        "\n",
        "Yes, it will help to reach global minima quickly\n",
        "\n",
        "**5. Impact of Missing Values?**\n",
        "\n",
        "It is sensitive to missing values\n",
        "\n",
        "**6. Impact of outliers?**\n",
        "\n",
        "linear regression needs the relationship between the independent and dependent variables to be linear. It is also important to check for outliers since linear regression is sensitive to outlier effects.\n",
        "Types of Problems it can solve(Supervised)\n",
        "Regression\n",
        "Different Problem statement you can solve using Linear Regression\n",
        "Advance House Price Prediction\n",
        "Flight Price Prediction\n"
      ]
    }
  ]
}